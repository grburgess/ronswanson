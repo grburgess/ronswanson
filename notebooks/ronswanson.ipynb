{
 "cells": [
  {
   "cell_type": "markdown",
   "id": "455a556d",
   "metadata": {},
   "source": [
    "# Intro\n",
    "\n",
    "So you need to build a table model? 3ML via astromodels provides you with nice\n",
    "facilities to accomplish this task. But often, we need to interface with\n",
    "computationally expensive simulations and require many runs of these\n",
    "simulations. This is a very generic task and Ron Swanson wants to make things as\n",
    "simple as possible for you. Making things complicated is annoying.\n",
    "\n",
    "![alt text](https://raw.githubusercontent.com/grburgess/ronswanson/master/docs/media/mad.jpg)"
   ]
  },
  {
   "cell_type": "markdown",
   "id": "a2e929d0",
   "metadata": {},
   "source": [
    "## Example with a Band function\n",
    "\n",
    "Let's say we want to make a table model from a Band function.\n",
    "\n",
    "We pick a parameter grid and a grid of energies for our simulation. We can enter\n",
    "these in a YAML file:\n",
    "\n",
    "```yaml\n",
    "alpha:\n",
    "  custom: no\n",
    "  vmin: -1\n",
    "  vmax: 0\n",
    "  scale: \"linear\"\n",
    "  n_points: 10\n",
    "\n",
    "beta:\n",
    "  custom: no\n",
    "  vmin: -3\n",
    "  vmax: -2\n",
    "  scale: \"linear\"\n",
    "  n_points: 10\n",
    "\n",
    "epeak:\n",
    "  custom: yes\n",
    "  values: [50., 69.74 , 97.29, 135.72, 189.32, 264.097, 368.4, 513.9, 716.87, 1000.]\n",
    "\n",
    "energy_grid:\n",
    "  custom: no\n",
    "  vmin: 10\n",
    "  vmax: 1000\n",
    "  scale: \"log\"\n",
    "  n_points: 50\n",
    "\n",
    "\n",
    "```\n",
    "\n",
    "As can be seen, we can specify the parameter/energy grids ourselves, or we can\n",
    "specify their ranges and let it be done for us.\n",
    "\n",
    "It is possible that a simulation outputs more than one type of array (photons,\n",
    "electrons, neutrinos, etc.). In this case, each output may have its own energy\n",
    "grid. These can be specified as ```energy_grid_0```,\n",
    "```energy_grid_1```...```energy_grid_n```. More on how to grab the output from\n",
    "these below.\n",
    "\n",
    "\n",
    "\n",
    "\n",
    "\n",
    "### The Simulation class\n",
    "\n",
    "Now we need to make a class for the simulation. We will inherit from the\n",
    "simulation class and specify a `_run_call` function that tells the program how\n",
    "to run the simulation for a given set of parameters. This function **must**\n",
    "return a dictionary of arrays of photon / particle fluxes for the given\n",
    "energies. The keys of the dictionary should be ```output_0```,\n",
    "```output_1```...```output_n``` for each type of output corresponding to the\n",
    "energy grids above.\n",
    "\n",
    "\n",
    "\n",
    "```python\n",
    "from typing import Dict\n",
    "\n",
    "import numpy as np\n",
    "from astromodels import Band\n",
    "import ronswanson as dukesilver\n",
    "\n",
    "\n",
    "class BandSimulation(dukesilver.Simulation):\n",
    "    def __init__(\n",
    "        self,\n",
    "        simulation_id: int,\n",
    "        parameter_set: Dict[str, float],\n",
    "        energy_grid: np.ndarray,\n",
    "        out_file: str,\n",
    "    ) -> None:\n",
    "        super().__init__(simulation_id, parameter_set, energy_grid, out_file)\n",
    "\n",
    "    def _run_call(self) -> np.ndarray:\n",
    "\n",
    "        b = Band(\n",
    "            K=1,\n",
    "            alpha=self._parameter_set[\"alpha\"],\n",
    "            beta=self._parameter_set[\"beta\"],\n",
    "            xp=self._parameter_set[\"epeak\"],\n",
    "        )\n",
    "\n",
    "        return dict(output_0=b(self._energy_grid))\n",
    "\n",
    "```"
   ]
  },
  {
   "cell_type": "markdown",
   "id": "7ea002e2",
   "metadata": {},
   "source": [
    "### The Simulation Builder\n",
    "\n",
    "Now we need to tell the simulation builder a few things so it can construct our\n",
    "files for us. We have stored this YAML file in the repo itself. You should use\n",
    "your own!\n",
    "\n",
    "The `SimulationBuilder` class takes a parameter grid, the name of the file that\n",
    "will be created, the import line for the custom simulation class, the number of\n",
    "cores and nodes to execute on.\n",
    "\n",
    "We configure this with a YAML file.\n",
    "\n",
    "```yaml\n",
    "# the import line to get our simulation\n",
    "# we ALWAYS import as Simulation\n",
    "import_line: \"from ronswanson.band_simulation import BandSimulation as Simulation\"\n",
    "\n",
    "# the parameter grid\n",
    "parameter_grid: \"test_params.yml\"\n",
    "\n",
    "# name of our database\n",
    "out_file: database.h5\n",
    "\n",
    "# clean out the simulation directory after\n",
    "# the run. It is defaulted to yes\n",
    "clean: yes\n",
    "\n",
    "simulation:\n",
    "\n",
    "  # number of multi-process jobs\n",
    "  n_mp_jobs: 8\n",
    "\n",
    "\n",
    "\n",
    "\n",
    "```"
   ]
  },
  {
   "cell_type": "code",
   "execution_count": 1,
   "id": "0757e305",
   "metadata": {
    "execution": {
     "iopub.execute_input": "2022-09-19T06:26:51.428654Z",
     "iopub.status.busy": "2022-09-19T06:26:51.428191Z",
     "iopub.status.idle": "2022-09-19T06:26:53.520624Z",
     "shell.execute_reply": "2022-09-19T06:26:53.519748Z"
    }
   },
   "outputs": [
    {
     "data": {
      "text/html": [
       "<pre style=\"white-space:pre;overflow-x:auto;line-height:normal;font-family:Menlo,'DejaVu Sans Mono',consolas,'Courier New',monospace\"><span style=\"color: #00ff00; text-decoration-color: #00ff00\">06:26:52 </span><span style=\"color: #af5fd7; text-decoration-color: #af5fd7\">WARNING </span> <span style=\"color: #c6c6c6; text-decoration-color: #c6c6c6; font-weight: bold\"> The naima package is not available. Models that depend on it will not be         </span><a href=\"file:///opt/hostedtoolcache/Python/3.8.13/x64/lib/python3.8/site-packages/astromodels/functions/functions_1D/functions.py\" target=\"_blank\"><span style=\"color: #7f7f7f; text-decoration-color: #7f7f7f\">functions.py</span></a><span style=\"color: #7f7f7f; text-decoration-color: #7f7f7f\">:</span><a href=\"file:///opt/hostedtoolcache/Python/3.8.13/x64/lib/python3.8/site-packages/astromodels/functions/functions_1D/functions.py#48\" target=\"_blank\"><span style=\"color: #7f7f7f; text-decoration-color: #7f7f7f\">48</span></a>\n",
       "<span style=\"color: #00ff00; text-decoration-color: #00ff00\">         </span>         <span style=\"color: #c6c6c6; text-decoration-color: #c6c6c6; font-weight: bold\">available                                                                         </span><span style=\"color: #7f7f7f; text-decoration-color: #7f7f7f\">               </span>\n",
       "</pre>\n"
      ],
      "text/plain": [
       "\u001b[38;5;46m06:26:52\u001b[0m\u001b[38;5;46m \u001b[0m\u001b[38;5;134mWARNING \u001b[0m \u001b[1;38;5;251m The naima package is not available. Models that depend on it will not be        \u001b[0m\u001b[1;38;5;251m \u001b[0m\u001b]8;id=585739;file:///opt/hostedtoolcache/Python/3.8.13/x64/lib/python3.8/site-packages/astromodels/functions/functions_1D/functions.py\u001b\\\u001b[2mfunctions.py\u001b[0m\u001b]8;;\u001b\\\u001b[2m:\u001b[0m\u001b]8;id=32753;file:///opt/hostedtoolcache/Python/3.8.13/x64/lib/python3.8/site-packages/astromodels/functions/functions_1D/functions.py#48\u001b\\\u001b[2m48\u001b[0m\u001b]8;;\u001b\\\n",
       "\u001b[38;5;46m         \u001b[0m         \u001b[1;38;5;251mavailable                                                                        \u001b[0m\u001b[1;38;5;251m \u001b[0m\u001b[2m               \u001b[0m\n"
      ]
     },
     "metadata": {},
     "output_type": "display_data"
    },
    {
     "data": {
      "text/html": [
       "<pre style=\"white-space:pre;overflow-x:auto;line-height:normal;font-family:Menlo,'DejaVu Sans Mono',consolas,'Courier New',monospace\"><span style=\"color: #00ff00; text-decoration-color: #00ff00\">         </span><span style=\"color: #af5fd7; text-decoration-color: #af5fd7\">WARNING </span> <span style=\"color: #c6c6c6; text-decoration-color: #c6c6c6; font-weight: bold\"> The GSL library or the pygsl wrapper cannot be loaded. Models that depend on it  </span><a href=\"file:///opt/hostedtoolcache/Python/3.8.13/x64/lib/python3.8/site-packages/astromodels/functions/functions_1D/functions.py\" target=\"_blank\"><span style=\"color: #7f7f7f; text-decoration-color: #7f7f7f\">functions.py</span></a><span style=\"color: #7f7f7f; text-decoration-color: #7f7f7f\">:</span><a href=\"file:///opt/hostedtoolcache/Python/3.8.13/x64/lib/python3.8/site-packages/astromodels/functions/functions_1D/functions.py#69\" target=\"_blank\"><span style=\"color: #7f7f7f; text-decoration-color: #7f7f7f\">69</span></a>\n",
       "<span style=\"color: #00ff00; text-decoration-color: #00ff00\">         </span>         <span style=\"color: #c6c6c6; text-decoration-color: #c6c6c6; font-weight: bold\">will not be available.                                                            </span><span style=\"color: #7f7f7f; text-decoration-color: #7f7f7f\">               </span>\n",
       "</pre>\n"
      ],
      "text/plain": [
       "\u001b[38;5;46m        \u001b[0m\u001b[38;5;46m \u001b[0m\u001b[38;5;134mWARNING \u001b[0m \u001b[1;38;5;251m The GSL library or the pygsl wrapper cannot be loaded. Models that depend on it \u001b[0m\u001b[1;38;5;251m \u001b[0m\u001b]8;id=381688;file:///opt/hostedtoolcache/Python/3.8.13/x64/lib/python3.8/site-packages/astromodels/functions/functions_1D/functions.py\u001b\\\u001b[2mfunctions.py\u001b[0m\u001b]8;;\u001b\\\u001b[2m:\u001b[0m\u001b]8;id=166917;file:///opt/hostedtoolcache/Python/3.8.13/x64/lib/python3.8/site-packages/astromodels/functions/functions_1D/functions.py#69\u001b\\\u001b[2m69\u001b[0m\u001b]8;;\u001b\\\n",
       "\u001b[38;5;46m         \u001b[0m         \u001b[1;38;5;251mwill not be available.                                                           \u001b[0m\u001b[1;38;5;251m \u001b[0m\u001b[2m               \u001b[0m\n"
      ]
     },
     "metadata": {},
     "output_type": "display_data"
    },
    {
     "data": {
      "text/html": [
       "<pre style=\"white-space:pre;overflow-x:auto;line-height:normal;font-family:Menlo,'DejaVu Sans Mono',consolas,'Courier New',monospace\"><span style=\"color: #00ff00; text-decoration-color: #00ff00\">06:26:53 </span><span style=\"color: #af5fd7; text-decoration-color: #af5fd7\">WARNING </span> <span style=\"color: #c6c6c6; text-decoration-color: #c6c6c6; font-weight: bold\"> The ebltable package is not available. Models that depend on it will not be     </span><a href=\"file:///opt/hostedtoolcache/Python/3.8.13/x64/lib/python3.8/site-packages/astromodels/functions/functions_1D/absorption.py\" target=\"_blank\"><span style=\"color: #7f7f7f; text-decoration-color: #7f7f7f\">absorption.py</span></a><span style=\"color: #7f7f7f; text-decoration-color: #7f7f7f\">:</span><a href=\"file:///opt/hostedtoolcache/Python/3.8.13/x64/lib/python3.8/site-packages/astromodels/functions/functions_1D/absorption.py#36\" target=\"_blank\"><span style=\"color: #7f7f7f; text-decoration-color: #7f7f7f\">36</span></a>\n",
       "<span style=\"color: #00ff00; text-decoration-color: #00ff00\">         </span>         <span style=\"color: #c6c6c6; text-decoration-color: #c6c6c6; font-weight: bold\">available                                                                        </span><span style=\"color: #7f7f7f; text-decoration-color: #7f7f7f\">                </span>\n",
       "</pre>\n"
      ],
      "text/plain": [
       "\u001b[38;5;46m06:26:53\u001b[0m\u001b[38;5;46m \u001b[0m\u001b[38;5;134mWARNING \u001b[0m \u001b[1;38;5;251m The ebltable package is not available. Models that depend on it will not be    \u001b[0m\u001b[1;38;5;251m \u001b[0m\u001b]8;id=622284;file:///opt/hostedtoolcache/Python/3.8.13/x64/lib/python3.8/site-packages/astromodels/functions/functions_1D/absorption.py\u001b\\\u001b[2mabsorption.py\u001b[0m\u001b]8;;\u001b\\\u001b[2m:\u001b[0m\u001b]8;id=230821;file:///opt/hostedtoolcache/Python/3.8.13/x64/lib/python3.8/site-packages/astromodels/functions/functions_1D/absorption.py#36\u001b\\\u001b[2m36\u001b[0m\u001b]8;;\u001b\\\n",
       "\u001b[38;5;46m         \u001b[0m         \u001b[1;38;5;251mavailable                                                                       \u001b[0m\u001b[1;38;5;251m \u001b[0m\u001b[2m                \u001b[0m\n"
      ]
     },
     "metadata": {},
     "output_type": "display_data"
    },
    {
     "data": {
      "text/html": [
       "<pre style=\"white-space:pre;overflow-x:auto;line-height:normal;font-family:Menlo,'DejaVu Sans Mono',consolas,'Courier New',monospace\"><span style=\"color: #00ff00; text-decoration-color: #00ff00\">         </span><span style=\"color: #af5fd7; text-decoration-color: #af5fd7\">WARNING </span> <span style=\"color: #c6c6c6; text-decoration-color: #c6c6c6; font-weight: bold\"> We have set the min_value of K to </span><span style=\"color: #c0c0c0; text-decoration-color: #c0c0c0; font-weight: bold\">1e-99</span><span style=\"color: #c6c6c6; text-decoration-color: #c6c6c6; font-weight: bold\"> because there was a postive transform   </span><a href=\"file:///opt/hostedtoolcache/Python/3.8.13/x64/lib/python3.8/site-packages/astromodels/core/parameter.py\" target=\"_blank\"><span style=\"color: #7f7f7f; text-decoration-color: #7f7f7f\">parameter.py</span></a><span style=\"color: #7f7f7f; text-decoration-color: #7f7f7f\">:</span><a href=\"file:///opt/hostedtoolcache/Python/3.8.13/x64/lib/python3.8/site-packages/astromodels/core/parameter.py#704\" target=\"_blank\"><span style=\"color: #7f7f7f; text-decoration-color: #7f7f7f\">704</span></a>\n",
       "</pre>\n"
      ],
      "text/plain": [
       "\u001b[38;5;46m        \u001b[0m\u001b[38;5;46m \u001b[0m\u001b[38;5;134mWARNING \u001b[0m \u001b[1;38;5;251m We have set the min_value of K to \u001b[0m\u001b[1;37m1e-99\u001b[0m\u001b[1;38;5;251m because there was a postive transform  \u001b[0m\u001b[1;38;5;251m \u001b[0m\u001b]8;id=356191;file:///opt/hostedtoolcache/Python/3.8.13/x64/lib/python3.8/site-packages/astromodels/core/parameter.py\u001b\\\u001b[2mparameter.py\u001b[0m\u001b]8;;\u001b\\\u001b[2m:\u001b[0m\u001b]8;id=415820;file:///opt/hostedtoolcache/Python/3.8.13/x64/lib/python3.8/site-packages/astromodels/core/parameter.py#704\u001b\\\u001b[2m704\u001b[0m\u001b]8;;\u001b\\\n"
      ]
     },
     "metadata": {},
     "output_type": "display_data"
    },
    {
     "data": {
      "text/html": [
       "<pre style=\"white-space:pre;overflow-x:auto;line-height:normal;font-family:Menlo,'DejaVu Sans Mono',consolas,'Courier New',monospace\"><span style=\"color: #00ff00; text-decoration-color: #00ff00\">         </span><span style=\"color: #af5fd7; text-decoration-color: #af5fd7\">WARNING </span> <span style=\"color: #c6c6c6; text-decoration-color: #c6c6c6; font-weight: bold\"> We have set the min_value of K to </span><span style=\"color: #c0c0c0; text-decoration-color: #c0c0c0; font-weight: bold\">1e-99</span><span style=\"color: #c6c6c6; text-decoration-color: #c6c6c6; font-weight: bold\"> because there was a postive transform   </span><a href=\"file:///opt/hostedtoolcache/Python/3.8.13/x64/lib/python3.8/site-packages/astromodels/core/parameter.py\" target=\"_blank\"><span style=\"color: #7f7f7f; text-decoration-color: #7f7f7f\">parameter.py</span></a><span style=\"color: #7f7f7f; text-decoration-color: #7f7f7f\">:</span><a href=\"file:///opt/hostedtoolcache/Python/3.8.13/x64/lib/python3.8/site-packages/astromodels/core/parameter.py#704\" target=\"_blank\"><span style=\"color: #7f7f7f; text-decoration-color: #7f7f7f\">704</span></a>\n",
       "</pre>\n"
      ],
      "text/plain": [
       "\u001b[38;5;46m        \u001b[0m\u001b[38;5;46m \u001b[0m\u001b[38;5;134mWARNING \u001b[0m \u001b[1;38;5;251m We have set the min_value of K to \u001b[0m\u001b[1;37m1e-99\u001b[0m\u001b[1;38;5;251m because there was a postive transform  \u001b[0m\u001b[1;38;5;251m \u001b[0m\u001b]8;id=96726;file:///opt/hostedtoolcache/Python/3.8.13/x64/lib/python3.8/site-packages/astromodels/core/parameter.py\u001b\\\u001b[2mparameter.py\u001b[0m\u001b]8;;\u001b\\\u001b[2m:\u001b[0m\u001b]8;id=704033;file:///opt/hostedtoolcache/Python/3.8.13/x64/lib/python3.8/site-packages/astromodels/core/parameter.py#704\u001b\\\u001b[2m704\u001b[0m\u001b]8;;\u001b\\\n"
      ]
     },
     "metadata": {},
     "output_type": "display_data"
    },
    {
     "data": {
      "text/html": [
       "<pre style=\"white-space:pre;overflow-x:auto;line-height:normal;font-family:Menlo,'DejaVu Sans Mono',consolas,'Courier New',monospace\"><span style=\"color: #00ff00; text-decoration-color: #00ff00\">         </span><span style=\"color: #af5fd7; text-decoration-color: #af5fd7\">WARNING </span> <span style=\"color: #c6c6c6; text-decoration-color: #c6c6c6; font-weight: bold\"> We have set the min_value of K to </span><span style=\"color: #c0c0c0; text-decoration-color: #c0c0c0; font-weight: bold\">1e-99</span><span style=\"color: #c6c6c6; text-decoration-color: #c6c6c6; font-weight: bold\"> because there was a postive transform   </span><a href=\"file:///opt/hostedtoolcache/Python/3.8.13/x64/lib/python3.8/site-packages/astromodels/core/parameter.py\" target=\"_blank\"><span style=\"color: #7f7f7f; text-decoration-color: #7f7f7f\">parameter.py</span></a><span style=\"color: #7f7f7f; text-decoration-color: #7f7f7f\">:</span><a href=\"file:///opt/hostedtoolcache/Python/3.8.13/x64/lib/python3.8/site-packages/astromodels/core/parameter.py#704\" target=\"_blank\"><span style=\"color: #7f7f7f; text-decoration-color: #7f7f7f\">704</span></a>\n",
       "</pre>\n"
      ],
      "text/plain": [
       "\u001b[38;5;46m        \u001b[0m\u001b[38;5;46m \u001b[0m\u001b[38;5;134mWARNING \u001b[0m \u001b[1;38;5;251m We have set the min_value of K to \u001b[0m\u001b[1;37m1e-99\u001b[0m\u001b[1;38;5;251m because there was a postive transform  \u001b[0m\u001b[1;38;5;251m \u001b[0m\u001b]8;id=373057;file:///opt/hostedtoolcache/Python/3.8.13/x64/lib/python3.8/site-packages/astromodels/core/parameter.py\u001b\\\u001b[2mparameter.py\u001b[0m\u001b]8;;\u001b\\\u001b[2m:\u001b[0m\u001b]8;id=705376;file:///opt/hostedtoolcache/Python/3.8.13/x64/lib/python3.8/site-packages/astromodels/core/parameter.py#704\u001b\\\u001b[2m704\u001b[0m\u001b]8;;\u001b\\\n"
      ]
     },
     "metadata": {},
     "output_type": "display_data"
    },
    {
     "data": {
      "text/html": [
       "<pre style=\"white-space:pre;overflow-x:auto;line-height:normal;font-family:Menlo,'DejaVu Sans Mono',consolas,'Courier New',monospace\"><span style=\"color: #00ff00; text-decoration-color: #00ff00\">         </span><span style=\"color: #af5fd7; text-decoration-color: #af5fd7\">WARNING </span> <span style=\"color: #c6c6c6; text-decoration-color: #c6c6c6; font-weight: bold\"> We have set the min_value of K to </span><span style=\"color: #c0c0c0; text-decoration-color: #c0c0c0; font-weight: bold\">1e-99</span><span style=\"color: #c6c6c6; text-decoration-color: #c6c6c6; font-weight: bold\"> because there was a postive transform   </span><a href=\"file:///opt/hostedtoolcache/Python/3.8.13/x64/lib/python3.8/site-packages/astromodels/core/parameter.py\" target=\"_blank\"><span style=\"color: #7f7f7f; text-decoration-color: #7f7f7f\">parameter.py</span></a><span style=\"color: #7f7f7f; text-decoration-color: #7f7f7f\">:</span><a href=\"file:///opt/hostedtoolcache/Python/3.8.13/x64/lib/python3.8/site-packages/astromodels/core/parameter.py#704\" target=\"_blank\"><span style=\"color: #7f7f7f; text-decoration-color: #7f7f7f\">704</span></a>\n",
       "</pre>\n"
      ],
      "text/plain": [
       "\u001b[38;5;46m        \u001b[0m\u001b[38;5;46m \u001b[0m\u001b[38;5;134mWARNING \u001b[0m \u001b[1;38;5;251m We have set the min_value of K to \u001b[0m\u001b[1;37m1e-99\u001b[0m\u001b[1;38;5;251m because there was a postive transform  \u001b[0m\u001b[1;38;5;251m \u001b[0m\u001b]8;id=844948;file:///opt/hostedtoolcache/Python/3.8.13/x64/lib/python3.8/site-packages/astromodels/core/parameter.py\u001b\\\u001b[2mparameter.py\u001b[0m\u001b]8;;\u001b\\\u001b[2m:\u001b[0m\u001b]8;id=141303;file:///opt/hostedtoolcache/Python/3.8.13/x64/lib/python3.8/site-packages/astromodels/core/parameter.py#704\u001b\\\u001b[2m704\u001b[0m\u001b]8;;\u001b\\\n"
      ]
     },
     "metadata": {},
     "output_type": "display_data"
    },
    {
     "data": {
      "text/html": [
       "<pre style=\"white-space:pre;overflow-x:auto;line-height:normal;font-family:Menlo,'DejaVu Sans Mono',consolas,'Courier New',monospace\"><span style=\"color: #00ff00; text-decoration-color: #00ff00\">         </span><span style=\"color: #af5fd7; text-decoration-color: #af5fd7\">WARNING </span> <span style=\"color: #c6c6c6; text-decoration-color: #c6c6c6; font-weight: bold\"> We have set the min_value of F to </span><span style=\"color: #c0c0c0; text-decoration-color: #c0c0c0; font-weight: bold\">1e-99</span><span style=\"color: #c6c6c6; text-decoration-color: #c6c6c6; font-weight: bold\"> because there was a postive transform   </span><a href=\"file:///opt/hostedtoolcache/Python/3.8.13/x64/lib/python3.8/site-packages/astromodels/core/parameter.py\" target=\"_blank\"><span style=\"color: #7f7f7f; text-decoration-color: #7f7f7f\">parameter.py</span></a><span style=\"color: #7f7f7f; text-decoration-color: #7f7f7f\">:</span><a href=\"file:///opt/hostedtoolcache/Python/3.8.13/x64/lib/python3.8/site-packages/astromodels/core/parameter.py#704\" target=\"_blank\"><span style=\"color: #7f7f7f; text-decoration-color: #7f7f7f\">704</span></a>\n",
       "</pre>\n"
      ],
      "text/plain": [
       "\u001b[38;5;46m        \u001b[0m\u001b[38;5;46m \u001b[0m\u001b[38;5;134mWARNING \u001b[0m \u001b[1;38;5;251m We have set the min_value of F to \u001b[0m\u001b[1;37m1e-99\u001b[0m\u001b[1;38;5;251m because there was a postive transform  \u001b[0m\u001b[1;38;5;251m \u001b[0m\u001b]8;id=614473;file:///opt/hostedtoolcache/Python/3.8.13/x64/lib/python3.8/site-packages/astromodels/core/parameter.py\u001b\\\u001b[2mparameter.py\u001b[0m\u001b]8;;\u001b\\\u001b[2m:\u001b[0m\u001b]8;id=869038;file:///opt/hostedtoolcache/Python/3.8.13/x64/lib/python3.8/site-packages/astromodels/core/parameter.py#704\u001b\\\u001b[2m704\u001b[0m\u001b]8;;\u001b\\\n"
      ]
     },
     "metadata": {},
     "output_type": "display_data"
    },
    {
     "data": {
      "text/html": [
       "<pre style=\"white-space:pre;overflow-x:auto;line-height:normal;font-family:Menlo,'DejaVu Sans Mono',consolas,'Courier New',monospace\"><span style=\"color: #00ff00; text-decoration-color: #00ff00\">         </span><span style=\"color: #af5fd7; text-decoration-color: #af5fd7\">WARNING </span> <span style=\"color: #c6c6c6; text-decoration-color: #c6c6c6; font-weight: bold\"> We have set the min_value of K to </span><span style=\"color: #c0c0c0; text-decoration-color: #c0c0c0; font-weight: bold\">1e-99</span><span style=\"color: #c6c6c6; text-decoration-color: #c6c6c6; font-weight: bold\"> because there was a postive transform   </span><a href=\"file:///opt/hostedtoolcache/Python/3.8.13/x64/lib/python3.8/site-packages/astromodels/core/parameter.py\" target=\"_blank\"><span style=\"color: #7f7f7f; text-decoration-color: #7f7f7f\">parameter.py</span></a><span style=\"color: #7f7f7f; text-decoration-color: #7f7f7f\">:</span><a href=\"file:///opt/hostedtoolcache/Python/3.8.13/x64/lib/python3.8/site-packages/astromodels/core/parameter.py#704\" target=\"_blank\"><span style=\"color: #7f7f7f; text-decoration-color: #7f7f7f\">704</span></a>\n",
       "</pre>\n"
      ],
      "text/plain": [
       "\u001b[38;5;46m        \u001b[0m\u001b[38;5;46m \u001b[0m\u001b[38;5;134mWARNING \u001b[0m \u001b[1;38;5;251m We have set the min_value of K to \u001b[0m\u001b[1;37m1e-99\u001b[0m\u001b[1;38;5;251m because there was a postive transform  \u001b[0m\u001b[1;38;5;251m \u001b[0m\u001b]8;id=108902;file:///opt/hostedtoolcache/Python/3.8.13/x64/lib/python3.8/site-packages/astromodels/core/parameter.py\u001b\\\u001b[2mparameter.py\u001b[0m\u001b]8;;\u001b\\\u001b[2m:\u001b[0m\u001b]8;id=645121;file:///opt/hostedtoolcache/Python/3.8.13/x64/lib/python3.8/site-packages/astromodels/core/parameter.py#704\u001b\\\u001b[2m704\u001b[0m\u001b]8;;\u001b\\\n"
      ]
     },
     "metadata": {},
     "output_type": "display_data"
    }
   ],
   "source": [
    "import ronswanson\n",
    "\n",
    "sb = ronswanson.SimulationBuilder.from_yaml(\"sim_build.yml\")"
   ]
  },
  {
   "cell_type": "markdown",
   "id": "487fcd78",
   "metadata": {},
   "source": [
    "Now a python file will be written to the disk which you can run to create your\n",
    "simulation runs. we can have a look at the file.\n",
    "\n",
    "```\n",
    "from ronswanson.band_simulation import BandSimulation as Simulation\n",
    "from joblib import Parallel, delayed\n",
    "from ronswanson import ParameterGrid\n",
    "\n",
    "pg = ParameterGrid.from_yaml('/Users/jburgess/coding/projects/ronswanson/parameters.yml')\n",
    "def func(i):\n",
    "\tparams = pg.at_index(i)\n",
    "\tsimulation = Simulation(i, params, pg.energy_grid.grid,'/Users/jburgess/coding/projects/ronswanson/database.h5')\n",
    "\tsimulation.run()\n",
    "\n",
    "iteration = [i for i in range(0, pg.n_points)]\n",
    "\n",
    "Parallel(n_jobs=8)(delayed(func)(i) for i in iteration)\n",
    "\n",
    "```\n",
    "\n",
    "<!-- #region --> Now this simply uses `joblib` to farm out the iterations over\n",
    "the parameter combinations. If iterations are to also be divided across HPC\n",
    "nodes, the python script will be modified and an associated `SLURM` script will\n",
    "be generated."
   ]
  },
  {
   "cell_type": "markdown",
   "id": "c3763153",
   "metadata": {},
   "source": [
    "#### SLURM and advanced options\n",
    "\n",
    "Configuring for SLURM and SBATCH systems is similar, but there are a few more options. ```ronswanson``` will set up bash scripts that will submit jobs to complete the simulations and then gather them into a database.\n",
    "\n",
    "Here is an example script:\n",
    "\n",
    "```yaml\n",
    "\n",
    "# the import line to get our simulation\n",
    "# we ALWAYS import as Simulation\n",
    "import_line: \"from ronswanson.band_simulation import BandSimulation as Simulation\"\n",
    "\n",
    "# the parameter grid\n",
    "parameter_grid: \"test_params.yml\"\n",
    "\n",
    "# name of our database\n",
    "out_file: database.h5\n",
    "\n",
    "simulation:\n",
    "\n",
    "  # number of multi-process jobs PER node\n",
    "  n_mp_jobs: 9\n",
    "\n",
    "  # number of cpus to request per node (leave room for threads)\n",
    "  n_cores_per_node: 72\n",
    "\n",
    "  # number of runs per node\n",
    "  # here, the 9 mp jobs will take turns with these 500 runs\n",
    "  run_per_node: 500\n",
    "\n",
    "  # the switch to say we are performing SLURM job\n",
    "  use_nodes: yes\n",
    "\n",
    "  # optional maximum number of nodes to request\n",
    "  # if more than this are required, multiple\n",
    "  # submission scripts are generated\n",
    "  max_nodes: 300\n",
    "\n",
    "  # the max run time for each job in the array\n",
    "  time:\n",
    "    hrs: 10\n",
    "    min: 30\n",
    "    sec: 0\n",
    "\n",
    "gather:\n",
    "\n",
    "  # after the simulations run\n",
    "  # you submit and MPI job that collects the simualtions\n",
    "\n",
    "  # number of simulations to collect per MPI rank\n",
    "  n_gather_per_core: 100\n",
    "\n",
    "  # number of cpus per node\n",
    "  n_cores_per_node: 70\n",
    "\n",
    "  # maximum job time\n",
    "  time:\n",
    "    hrs: 1\n",
    "    min: 0\n",
    "    sec: 0\n",
    "\n",
    "```\n",
    "\n",
    "\n",
    "Additional configuration of SLURM jobs can be handle with the ```ronswanson``` configuration."
   ]
  },
  {
   "cell_type": "markdown",
   "id": "8399d940",
   "metadata": {},
   "source": [
    "### The Database\n"
   ]
  },
  {
   "cell_type": "markdown",
   "id": "722e1f87",
   "metadata": {},
   "source": [
    "Upon running the script, an HDF5 database of the runs is created which contains\n",
    "all the information needed to build a table model in `3ML`.  <!-- #endregion -->"
   ]
  },
  {
   "cell_type": "code",
   "execution_count": 2,
   "id": "e37a6255",
   "metadata": {
    "execution": {
     "iopub.execute_input": "2022-09-19T06:26:53.525094Z",
     "iopub.status.busy": "2022-09-19T06:26:53.524664Z",
     "iopub.status.idle": "2022-09-19T06:26:53.529213Z",
     "shell.execute_reply": "2022-09-19T06:26:53.528565Z"
    },
    "lines_to_next_cell": 2
   },
   "outputs": [],
   "source": [
    "from ronswanson.utils.package_data import get_path_of_data_file\n",
    "from ronswanson import Database"
   ]
  },
  {
   "cell_type": "code",
   "execution_count": 3,
   "id": "abac28fe",
   "metadata": {
    "execution": {
     "iopub.execute_input": "2022-09-19T06:26:53.532020Z",
     "iopub.status.busy": "2022-09-19T06:26:53.531770Z",
     "iopub.status.idle": "2022-09-19T06:26:53.540282Z",
     "shell.execute_reply": "2022-09-19T06:26:53.539589Z"
    }
   },
   "outputs": [
    {
     "data": {
      "text/plain": [
       "OrderedDict([('alpha', array([-1. , -0.5,  0. ,  0.5,  1. ], dtype=float32)),\n",
       "             ('beta',\n",
       "              array([-3.  , -2.75, -2.5 , -2.25, -2.  ], dtype=float32)),\n",
       "             ('epeak',\n",
       "              array([  50.   ,   69.74 ,   97.29 ,  135.72 ,  189.32 ,  264.097,\n",
       "                      368.4  ,  513.9  ,  716.87 , 1000.   ], dtype=float32))])"
      ]
     },
     "execution_count": 3,
     "metadata": {},
     "output_type": "execute_result"
    }
   ],
   "source": [
    "db = Database.from_file(get_path_of_data_file(\"test_database.h5\"))\n",
    "db.parameter_ranges"
   ]
  },
  {
   "cell_type": "markdown",
   "id": "68434c45",
   "metadata": {},
   "source": [
    "Now we can use the database to construct and save a table model for `3ML`"
   ]
  },
  {
   "cell_type": "code",
   "execution_count": 4,
   "id": "883d05d7",
   "metadata": {
    "execution": {
     "iopub.execute_input": "2022-09-19T06:26:53.543310Z",
     "iopub.status.busy": "2022-09-19T06:26:53.543082Z",
     "iopub.status.idle": "2022-09-19T06:26:53.784267Z",
     "shell.execute_reply": "2022-09-19T06:26:53.782779Z"
    }
   },
   "outputs": [
    {
     "data": {
      "text/html": [
       "<pre style=\"white-space:pre;overflow-x:auto;line-height:normal;font-family:Menlo,'DejaVu Sans Mono',consolas,'Courier New',monospace\"><span style=\"color: #00ff00; text-decoration-color: #00ff00\">         </span><span style=\"color: #af5fd7; text-decoration-color: #af5fd7\">WARNING </span> <span style=\"color: #c6c6c6; text-decoration-color: #c6c6c6; font-weight: bold\"> Energy unit is not a Quantity instance, so units has not been provided.    </span><a href=\"file:///opt/hostedtoolcache/Python/3.8.13/x64/lib/python3.8/site-packages/astromodels/functions/template_model.py\" target=\"_blank\"><span style=\"color: #7f7f7f; text-decoration-color: #7f7f7f\">template_model.py</span></a><span style=\"color: #7f7f7f; text-decoration-color: #7f7f7f\">:</span><a href=\"file:///opt/hostedtoolcache/Python/3.8.13/x64/lib/python3.8/site-packages/astromodels/functions/template_model.py#106\" target=\"_blank\"><span style=\"color: #7f7f7f; text-decoration-color: #7f7f7f\">106</span></a>\n",
       "<span style=\"color: #00ff00; text-decoration-color: #00ff00\">         </span>         <span style=\"color: #c6c6c6; text-decoration-color: #c6c6c6; font-weight: bold\">Using keV.                                                                  </span><span style=\"color: #7f7f7f; text-decoration-color: #7f7f7f\">                     </span>\n",
       "</pre>\n"
      ],
      "text/plain": [
       "\u001b[38;5;46m        \u001b[0m\u001b[38;5;46m \u001b[0m\u001b[38;5;134mWARNING \u001b[0m \u001b[1;38;5;251m Energy unit is not a Quantity instance, so units has not been provided.   \u001b[0m\u001b[1;38;5;251m \u001b[0m\u001b]8;id=691236;file:///opt/hostedtoolcache/Python/3.8.13/x64/lib/python3.8/site-packages/astromodels/functions/template_model.py\u001b\\\u001b[2mtemplate_model.py\u001b[0m\u001b]8;;\u001b\\\u001b[2m:\u001b[0m\u001b]8;id=33816;file:///opt/hostedtoolcache/Python/3.8.13/x64/lib/python3.8/site-packages/astromodels/functions/template_model.py#106\u001b\\\u001b[2m106\u001b[0m\u001b]8;;\u001b\\\n",
       "\u001b[38;5;46m         \u001b[0m         \u001b[1;38;5;251mUsing keV.                                                                 \u001b[0m\u001b[1;38;5;251m \u001b[0m\u001b[2m                     \u001b[0m\n"
      ]
     },
     "metadata": {},
     "output_type": "display_data"
    },
    {
     "data": {
      "application/vnd.jupyter.widget-view+json": {
       "model_id": "81767c799b3349d6bb17ba77c7684284",
       "version_major": 2,
       "version_minor": 0
      },
      "text/plain": [
       "  0%|          | 0/250 [00:00<?, ?it/s]"
      ]
     },
     "metadata": {},
     "output_type": "display_data"
    },
    {
     "data": {
      "text/html": [
       "<ul>\n",
       "\n",
       "<li>description: a new model for 3ML</li>\n",
       "\n",
       "<li>formula: n.a.</li>\n",
       "\n",
       "<li>parameters: \n",
       "<ul>\n",
       "\n",
       "<li>K: \n",
       "<ul>\n",
       "\n",
       "<li>value: 1.0</li>\n",
       "\n",
       "<li>desc: None</li>\n",
       "\n",
       "<li>min_value: None</li>\n",
       "\n",
       "<li>max_value: None</li>\n",
       "\n",
       "<li>unit: </li>\n",
       "\n",
       "<li>is_normalization: False</li>\n",
       "\n",
       "<li>delta: 0.1</li>\n",
       "\n",
       "<li>free: True</li>\n",
       "\n",
       "</ul>\n",
       "\n",
       "</li>\n",
       "\n",
       "<li>scale: \n",
       "<ul>\n",
       "\n",
       "<li>value: 1.0</li>\n",
       "\n",
       "<li>desc: None</li>\n",
       "\n",
       "<li>min_value: None</li>\n",
       "\n",
       "<li>max_value: None</li>\n",
       "\n",
       "<li>unit: </li>\n",
       "\n",
       "<li>is_normalization: False</li>\n",
       "\n",
       "<li>delta: 0.1</li>\n",
       "\n",
       "<li>free: True</li>\n",
       "\n",
       "</ul>\n",
       "\n",
       "</li>\n",
       "\n",
       "<li>alpha: \n",
       "<ul>\n",
       "\n",
       "<li>value: 0.0</li>\n",
       "\n",
       "<li>desc: None</li>\n",
       "\n",
       "<li>min_value: -1.0</li>\n",
       "\n",
       "<li>max_value: 1.0</li>\n",
       "\n",
       "<li>unit: </li>\n",
       "\n",
       "<li>is_normalization: False</li>\n",
       "\n",
       "<li>delta: 0.1</li>\n",
       "\n",
       "<li>free: True</li>\n",
       "\n",
       "</ul>\n",
       "\n",
       "</li>\n",
       "\n",
       "<li>beta: \n",
       "<ul>\n",
       "\n",
       "<li>value: -2.5</li>\n",
       "\n",
       "<li>desc: None</li>\n",
       "\n",
       "<li>min_value: -3.0</li>\n",
       "\n",
       "<li>max_value: -2.0</li>\n",
       "\n",
       "<li>unit: </li>\n",
       "\n",
       "<li>is_normalization: False</li>\n",
       "\n",
       "<li>delta: 0.25</li>\n",
       "\n",
       "<li>free: True</li>\n",
       "\n",
       "</ul>\n",
       "\n",
       "</li>\n",
       "\n",
       "<li>epeak: \n",
       "<ul>\n",
       "\n",
       "<li>value: 226.70849609375</li>\n",
       "\n",
       "<li>desc: None</li>\n",
       "\n",
       "<li>min_value: 50.0</li>\n",
       "\n",
       "<li>max_value: 1000.0</li>\n",
       "\n",
       "<li>unit: </li>\n",
       "\n",
       "<li>is_normalization: False</li>\n",
       "\n",
       "<li>delta: 22.670849609375</li>\n",
       "\n",
       "<li>free: True</li>\n",
       "\n",
       "</ul>\n",
       "\n",
       "</li>\n",
       "\n",
       "</ul>\n",
       "\n",
       "</li>\n",
       "\n",
       "</ul>\n"
      ],
      "text/plain": [
       "  * description: a new model for 3ML\n",
       "  * formula: n.a.\n",
       "  * parameters:\n",
       "    * K:\n",
       "      * value: 1.0\n",
       "      * desc: None\n",
       "      * min_value: null\n",
       "      * max_value: null\n",
       "      * unit: ''\n",
       "      * is_normalization: false\n",
       "      * delta: 0.1\n",
       "      * free: true\n",
       "    * scale:\n",
       "      * value: 1.0\n",
       "      * desc: None\n",
       "      * min_value: null\n",
       "      * max_value: null\n",
       "      * unit: ''\n",
       "      * is_normalization: false\n",
       "      * delta: 0.1\n",
       "      * free: true\n",
       "    * alpha:\n",
       "      * value: 0.0\n",
       "      * desc: None\n",
       "      * min_value: -1.0\n",
       "      * max_value: 1.0\n",
       "      * unit: ''\n",
       "      * is_normalization: false\n",
       "      * delta: 0.1\n",
       "      * free: true\n",
       "    * beta:\n",
       "      * value: -2.5\n",
       "      * desc: None\n",
       "      * min_value: -3.0\n",
       "      * max_value: -2.0\n",
       "      * unit: ''\n",
       "      * is_normalization: false\n",
       "      * delta: 0.25\n",
       "      * free: true\n",
       "    * epeak:\n",
       "      * value: 226.70849609375\n",
       "      * desc: None\n",
       "      * min_value: 50.0\n",
       "      * max_value: 1000.0\n",
       "      * unit: ''\n",
       "      * is_normalization: false\n",
       "      * delta: 22.670849609375\n",
       "      * free: true"
      ]
     },
     "execution_count": 4,
     "metadata": {},
     "output_type": "execute_result"
    }
   ],
   "source": [
    "table_model = db.to_3ml(\"my_model\", \"a new model for 3ML\")\n",
    "table_model"
   ]
  },
  {
   "cell_type": "code",
   "execution_count": 5,
   "id": "6490ad8e",
   "metadata": {
    "execution": {
     "iopub.execute_input": "2022-09-19T06:26:53.787862Z",
     "iopub.status.busy": "2022-09-19T06:26:53.787594Z",
     "iopub.status.idle": "2022-09-19T06:26:54.416147Z",
     "shell.execute_reply": "2022-09-19T06:26:54.415252Z"
    }
   },
   "outputs": [],
   "source": [
    "import matplotlib.pyplot as plt\n",
    "from astromodels import Band\n",
    "\n",
    "%matplotlib inline"
   ]
  },
  {
   "cell_type": "markdown",
   "id": "c5658909",
   "metadata": {},
   "source": [
    "We can compare our table model with the Band function."
   ]
  },
  {
   "cell_type": "code",
   "execution_count": 6,
   "id": "95da04fc",
   "metadata": {
    "execution": {
     "iopub.execute_input": "2022-09-19T06:26:54.420927Z",
     "iopub.status.busy": "2022-09-19T06:26:54.420189Z",
     "iopub.status.idle": "2022-09-19T06:26:57.003697Z",
     "shell.execute_reply": "2022-09-19T06:26:57.002803Z"
    },
    "lines_to_next_cell": 2
   },
   "outputs": [
    {
     "data": {
      "text/plain": [
       "<matplotlib.legend.Legend at 0x7fa550673550>"
      ]
     },
     "execution_count": 6,
     "metadata": {},
     "output_type": "execute_result"
    },
    {
     "data": {
      "image/png": "[encoded data removed]",
      "text/plain": [
       "<Figure size 640x480 with 1 Axes>"
      ]
     },
     "metadata": {},
     "output_type": "display_data"
    }
   ],
   "source": [
    "import numpy as np\n",
    "\n",
    "ene = np.geomspace(10, 1000, 100)\n",
    "\n",
    "b = Band()\n",
    "b.alpha = -0.6\n",
    "b.beta = -2.5\n",
    "b.xp = 250\n",
    "b.K = 1.05\n",
    "\n",
    "table_model.alpha = -0.6\n",
    "table_model.beta = -2.5\n",
    "table_model.epeak = 250\n",
    "\n",
    "\n",
    "fig, ax = plt.subplots()\n",
    "\n",
    "ax.loglog(\n",
    "    ene, ene**2 * table_model(ene), color='#33FFC4', lw=3, label=\"table\"\n",
    ")\n",
    "ax.loglog(ene, ene**2 * b(ene), color='#C989FB', lw=3, label=\"band\")\n",
    "\n",
    "ax.set(xlabel=\"energy\", ylabel=\"vFv\")\n",
    "\n",
    "ax.legend()"
   ]
  },
  {
   "cell_type": "markdown",
   "id": "2ad1a345",
   "metadata": {},
   "source": [
    "Great! That was way easier than programming everything yourself.\n",
    "\n",
    "![alt text](https://raw.githubusercontent.com/grburgess/ronswanson/master/docs/media/happy.jpeg)\n",
    "\n",
    "\n",
    "Suppose we did not want to use all the values in the parameter ranges we have simulated. Bigger interpolation tables take up memory when fitting.\n",
    "\n",
    "We can select a subset of the parameter ranges when building the table"
   ]
  },
  {
   "cell_type": "code",
   "execution_count": 7,
   "id": "6f9f493f",
   "metadata": {
    "execution": {
     "iopub.execute_input": "2022-09-19T06:26:57.008644Z",
     "iopub.status.busy": "2022-09-19T06:26:57.007268Z",
     "iopub.status.idle": "2022-09-19T06:26:57.201498Z",
     "shell.execute_reply": "2022-09-19T06:26:57.200693Z"
    }
   },
   "outputs": [
    {
     "data": {
      "text/html": [
       "<pre style=\"white-space:pre;overflow-x:auto;line-height:normal;font-family:Menlo,'DejaVu Sans Mono',consolas,'Courier New',monospace\"><span style=\"color: #00ff00; text-decoration-color: #00ff00\">06:26:57 </span><span style=\"color: #af5fd7; text-decoration-color: #af5fd7\">WARNING </span> <span style=\"color: #c6c6c6; text-decoration-color: #c6c6c6; font-weight: bold\"> Energy unit is not a Quantity instance, so units has not been provided.    </span><a href=\"file:///opt/hostedtoolcache/Python/3.8.13/x64/lib/python3.8/site-packages/astromodels/functions/template_model.py\" target=\"_blank\"><span style=\"color: #7f7f7f; text-decoration-color: #7f7f7f\">template_model.py</span></a><span style=\"color: #7f7f7f; text-decoration-color: #7f7f7f\">:</span><a href=\"file:///opt/hostedtoolcache/Python/3.8.13/x64/lib/python3.8/site-packages/astromodels/functions/template_model.py#106\" target=\"_blank\"><span style=\"color: #7f7f7f; text-decoration-color: #7f7f7f\">106</span></a>\n",
       "<span style=\"color: #00ff00; text-decoration-color: #00ff00\">         </span>         <span style=\"color: #c6c6c6; text-decoration-color: #c6c6c6; font-weight: bold\">Using keV.                                                                  </span><span style=\"color: #7f7f7f; text-decoration-color: #7f7f7f\">                     </span>\n",
       "</pre>\n"
      ],
      "text/plain": [
       "\u001b[38;5;46m06:26:57\u001b[0m\u001b[38;5;46m \u001b[0m\u001b[38;5;134mWARNING \u001b[0m \u001b[1;38;5;251m Energy unit is not a Quantity instance, so units has not been provided.   \u001b[0m\u001b[1;38;5;251m \u001b[0m\u001b]8;id=694431;file:///opt/hostedtoolcache/Python/3.8.13/x64/lib/python3.8/site-packages/astromodels/functions/template_model.py\u001b\\\u001b[2mtemplate_model.py\u001b[0m\u001b]8;;\u001b\\\u001b[2m:\u001b[0m\u001b]8;id=922860;file:///opt/hostedtoolcache/Python/3.8.13/x64/lib/python3.8/site-packages/astromodels/functions/template_model.py#106\u001b\\\u001b[2m106\u001b[0m\u001b]8;;\u001b\\\n",
       "\u001b[38;5;46m         \u001b[0m         \u001b[1;38;5;251mUsing keV.                                                                 \u001b[0m\u001b[1;38;5;251m \u001b[0m\u001b[2m                     \u001b[0m\n"
      ]
     },
     "metadata": {},
     "output_type": "display_data"
    },
    {
     "data": {
      "application/vnd.jupyter.widget-view+json": {
       "model_id": "a34d35e3b9a84dfd8e541cb7044ddc15",
       "version_major": 2,
       "version_minor": 0
      },
      "text/plain": [
       "  0%|          | 0/45 [00:00<?, ?it/s]"
      ]
     },
     "metadata": {},
     "output_type": "display_data"
    },
    {
     "data": {
      "text/html": [
       "<ul>\n",
       "\n",
       "<li>description: a new model for 3ML</li>\n",
       "\n",
       "<li>formula: n.a.</li>\n",
       "\n",
       "<li>parameters: \n",
       "<ul>\n",
       "\n",
       "<li>K: \n",
       "<ul>\n",
       "\n",
       "<li>value: 1.0</li>\n",
       "\n",
       "<li>desc: None</li>\n",
       "\n",
       "<li>min_value: None</li>\n",
       "\n",
       "<li>max_value: None</li>\n",
       "\n",
       "<li>unit: </li>\n",
       "\n",
       "<li>is_normalization: False</li>\n",
       "\n",
       "<li>delta: 0.1</li>\n",
       "\n",
       "<li>free: True</li>\n",
       "\n",
       "</ul>\n",
       "\n",
       "</li>\n",
       "\n",
       "<li>scale: \n",
       "<ul>\n",
       "\n",
       "<li>value: 1.0</li>\n",
       "\n",
       "<li>desc: None</li>\n",
       "\n",
       "<li>min_value: None</li>\n",
       "\n",
       "<li>max_value: None</li>\n",
       "\n",
       "<li>unit: </li>\n",
       "\n",
       "<li>is_normalization: False</li>\n",
       "\n",
       "<li>delta: 0.1</li>\n",
       "\n",
       "<li>free: True</li>\n",
       "\n",
       "</ul>\n",
       "\n",
       "</li>\n",
       "\n",
       "<li>alpha: \n",
       "<ul>\n",
       "\n",
       "<li>value: -0.5</li>\n",
       "\n",
       "<li>desc: None</li>\n",
       "\n",
       "<li>min_value: -1.0</li>\n",
       "\n",
       "<li>max_value: 0.0</li>\n",
       "\n",
       "<li>unit: </li>\n",
       "\n",
       "<li>is_normalization: False</li>\n",
       "\n",
       "<li>delta: 0.05</li>\n",
       "\n",
       "<li>free: True</li>\n",
       "\n",
       "</ul>\n",
       "\n",
       "</li>\n",
       "\n",
       "<li>beta: \n",
       "<ul>\n",
       "\n",
       "<li>value: -2.5</li>\n",
       "\n",
       "<li>desc: None</li>\n",
       "\n",
       "<li>min_value: -3.0</li>\n",
       "\n",
       "<li>max_value: -2.0</li>\n",
       "\n",
       "<li>unit: </li>\n",
       "\n",
       "<li>is_normalization: False</li>\n",
       "\n",
       "<li>delta: 0.25</li>\n",
       "\n",
       "<li>free: True</li>\n",
       "\n",
       "</ul>\n",
       "\n",
       "</li>\n",
       "\n",
       "<li>epeak: \n",
       "<ul>\n",
       "\n",
       "<li>value: 368.3999938964844</li>\n",
       "\n",
       "<li>desc: None</li>\n",
       "\n",
       "<li>min_value: 264.09698486328125</li>\n",
       "\n",
       "<li>max_value: 513.9000244140625</li>\n",
       "\n",
       "<li>unit: </li>\n",
       "\n",
       "<li>is_normalization: False</li>\n",
       "\n",
       "<li>delta: 36.83999938964844</li>\n",
       "\n",
       "<li>free: True</li>\n",
       "\n",
       "</ul>\n",
       "\n",
       "</li>\n",
       "\n",
       "</ul>\n",
       "\n",
       "</li>\n",
       "\n",
       "</ul>\n"
      ],
      "text/plain": [
       "  * description: a new model for 3ML\n",
       "  * formula: n.a.\n",
       "  * parameters:\n",
       "    * K:\n",
       "      * value: 1.0\n",
       "      * desc: None\n",
       "      * min_value: null\n",
       "      * max_value: null\n",
       "      * unit: ''\n",
       "      * is_normalization: false\n",
       "      * delta: 0.1\n",
       "      * free: true\n",
       "    * scale:\n",
       "      * value: 1.0\n",
       "      * desc: None\n",
       "      * min_value: null\n",
       "      * max_value: null\n",
       "      * unit: ''\n",
       "      * is_normalization: false\n",
       "      * delta: 0.1\n",
       "      * free: true\n",
       "    * alpha:\n",
       "      * value: -0.5\n",
       "      * desc: None\n",
       "      * min_value: -1.0\n",
       "      * max_value: 0.0\n",
       "      * unit: ''\n",
       "      * is_normalization: false\n",
       "      * delta: 0.05\n",
       "      * free: true\n",
       "    * beta:\n",
       "      * value: -2.5\n",
       "      * desc: None\n",
       "      * min_value: -3.0\n",
       "      * max_value: -2.0\n",
       "      * unit: ''\n",
       "      * is_normalization: false\n",
       "      * delta: 0.25\n",
       "      * free: true\n",
       "    * epeak:\n",
       "      * value: 368.3999938964844\n",
       "      * desc: None\n",
       "      * min_value: 264.09698486328125\n",
       "      * max_value: 513.9000244140625\n",
       "      * unit: ''\n",
       "      * is_normalization: false\n",
       "      * delta: 36.83999938964844\n",
       "      * free: true"
      ]
     },
     "execution_count": 7,
     "metadata": {},
     "output_type": "execute_result"
    }
   ],
   "source": [
    "selection = {}\n",
    "selection['alpha'] = dict(vmax=0)\n",
    "selection['epeak'] = dict(vmin=200, vmax=700)\n",
    "\n",
    "table_model_small = db.to_3ml(\n",
    "    \"my_model_small\", \"a new model for 3ML\", **selection\n",
    ")\n",
    "table_model_small"
   ]
  },
  {
   "cell_type": "markdown",
   "id": "141f1b0d",
   "metadata": {},
   "source": [
    "Awesome! Now go enjoy your weekend.\n",
    "\n",
    "![alt text](https://raw.githubusercontent.com/grburgess/ronswanson/master/docs/media/enjoy.jpg)"
   ]
  },
  {
   "cell_type": "markdown",
   "id": "0a43a38c",
   "metadata": {},
   "source": [
    "## User configuration\n",
    "\n",
    "A simple YAML configuration is stored in ```~/.config/ronswanson/ronswanson_config.yml```. It allows for configuring the log as well as putting default SLURM configuration parameters.\n",
    "\n",
    "An example:\n",
    "\n",
    "```yaml\n",
    "\n",
    "logging:\n",
    "  'on': on\n",
    "  level: INFO\n",
    "slurm:\n",
    "\n",
    "  # where to send SLURM emails\n",
    "  user_email: my_email.com\n",
    "\n",
    "  # modules to be loaded for MPI jobs (gather script)\n",
    "  mpi_modules: ['intel/21.4.0', 'impi/2021.4',\n",
    "  'anaconda/3/2021.11','hdf5-mpi/1.12.2', 'mpi4py/3.0.3', 'h5py-mpi/2.10']\n",
    "\n",
    "  # modules to load for simulation jobs\n",
    "  modules: ['intel/21.4.0', 'impi/2021.4', 'anaconda/3/2021.11','hdf5-serial/1.12.2']\n",
    "\n",
    "  # the python binary for running the simulation jobs\n",
    "  python: \"python3\"\n",
    "\n",
    "  # where to store the simulations before\n",
    "  # database creation (default will be the directory where the code is run)\n",
    "  store_dir: /ptmp/jburgess\n",
    "\n",
    "```\n",
    "\n",
    "The configuration can be modified on the fly."
   ]
  },
  {
   "cell_type": "code",
   "execution_count": 8,
   "id": "f0fa5191",
   "metadata": {
    "execution": {
     "iopub.execute_input": "2022-09-19T06:26:57.205450Z",
     "iopub.status.busy": "2022-09-19T06:26:57.205201Z",
     "iopub.status.idle": "2022-09-19T06:26:57.208647Z",
     "shell.execute_reply": "2022-09-19T06:26:57.207930Z"
    }
   },
   "outputs": [],
   "source": [
    "from ronswanson import ronswanson_config, show_configuration"
   ]
  },
  {
   "cell_type": "code",
   "execution_count": 9,
   "id": "ec21a40b",
   "metadata": {
    "execution": {
     "iopub.execute_input": "2022-09-19T06:26:57.211627Z",
     "iopub.status.busy": "2022-09-19T06:26:57.211395Z",
     "iopub.status.idle": "2022-09-19T06:26:57.218274Z",
     "shell.execute_reply": "2022-09-19T06:26:57.217609Z"
    }
   },
   "outputs": [
    {
     "data": {
      "text/html": [
       "<pre style=\"white-space:pre;overflow-x:auto;line-height:normal;font-family:Menlo,'DejaVu Sans Mono',consolas,'Courier New',monospace\"><span style=\"color: #af5fd7; text-decoration-color: #af5fd7; font-weight: bold\">config</span>\n",
       "<span style=\"color: #af5fd7; text-decoration-color: #af5fd7\">┣━━ </span><span style=\"color: #af5fd7; text-decoration-color: #af5fd7; font-weight: bold\">logging</span>\n",
       "<span style=\"color: #af5fd7; text-decoration-color: #af5fd7\">┃   ┣━━ </span><span style=\"color: #00ffaf; text-decoration-color: #00ffaf; font-weight: bold\">on: </span><span style=\"color: #5f87ff; text-decoration-color: #5f87ff; font-weight: bold\">True</span>\n",
       "<span style=\"color: #af5fd7; text-decoration-color: #af5fd7\">┃   ┗━━ </span><span style=\"color: #00ffaf; text-decoration-color: #00ffaf; font-weight: bold\">level: </span><span style=\"color: #5f87ff; text-decoration-color: #5f87ff; font-weight: bold\">WARNING</span>\n",
       "<span style=\"color: #af5fd7; text-decoration-color: #af5fd7\">┗━━ </span><span style=\"color: #af5fd7; text-decoration-color: #af5fd7; font-weight: bold\">slurm</span>\n",
       "<span style=\"color: #af5fd7; text-decoration-color: #af5fd7\">    ┣━━ </span><span style=\"color: #00ffaf; text-decoration-color: #00ffaf; font-weight: bold\">user_email: </span><span style=\"color: #5f87ff; text-decoration-color: #5f87ff; font-weight: bold\">user@email.com</span>\n",
       "<span style=\"color: #af5fd7; text-decoration-color: #af5fd7\">    ┣━━ </span><span style=\"color: #00ffaf; text-decoration-color: #00ffaf; font-weight: bold\">modules: </span><span style=\"color: #5f87ff; text-decoration-color: #5f87ff; font-weight: bold\">None</span>\n",
       "<span style=\"color: #af5fd7; text-decoration-color: #af5fd7\">    ┣━━ </span><span style=\"color: #00ffaf; text-decoration-color: #00ffaf; font-weight: bold\">mpi_modules: </span><span style=\"color: #5f87ff; text-decoration-color: #5f87ff; font-weight: bold\">None</span>\n",
       "<span style=\"color: #af5fd7; text-decoration-color: #af5fd7\">    ┣━━ </span><span style=\"color: #00ffaf; text-decoration-color: #00ffaf; font-weight: bold\">python: </span><span style=\"color: #5f87ff; text-decoration-color: #5f87ff; font-weight: bold\">python</span>\n",
       "<span style=\"color: #af5fd7; text-decoration-color: #af5fd7\">    ┗━━ </span><span style=\"color: #00ffaf; text-decoration-color: #00ffaf; font-weight: bold\">store_dir: </span><span style=\"color: #5f87ff; text-decoration-color: #5f87ff; font-weight: bold\">None</span>\n",
       "</pre>\n"
      ],
      "text/plain": [
       "\u001b[1;38;5;134mconfig\u001b[0m\n",
       "\u001b[38;5;134m┣━━ \u001b[0m\u001b[1;38;5;134mlogging\u001b[0m\n",
       "\u001b[38;5;134m┃   \u001b[0m\u001b[38;5;134m┣━━ \u001b[0m\u001b[1;38;5;49mon: \u001b[0m\u001b[1;5;38;5;69mTrue\u001b[0m\n",
       "\u001b[38;5;134m┃   \u001b[0m\u001b[38;5;134m┗━━ \u001b[0m\u001b[1;38;5;49mlevel: \u001b[0m\u001b[1;5;38;5;69mWARNING\u001b[0m\n",
       "\u001b[38;5;134m┗━━ \u001b[0m\u001b[1;38;5;134mslurm\u001b[0m\n",
       "\u001b[38;5;134m    \u001b[0m\u001b[38;5;134m┣━━ \u001b[0m\u001b[1;38;5;49muser_email: \u001b[0m\u001b[1;5;38;5;69muser@email.com\u001b[0m\n",
       "\u001b[38;5;134m    \u001b[0m\u001b[38;5;134m┣━━ \u001b[0m\u001b[1;38;5;49mmodules: \u001b[0m\u001b[1;5;38;5;69mNone\u001b[0m\n",
       "\u001b[38;5;134m    \u001b[0m\u001b[38;5;134m┣━━ \u001b[0m\u001b[1;38;5;49mmpi_modules: \u001b[0m\u001b[1;5;38;5;69mNone\u001b[0m\n",
       "\u001b[38;5;134m    \u001b[0m\u001b[38;5;134m┣━━ \u001b[0m\u001b[1;38;5;49mpython: \u001b[0m\u001b[1;5;38;5;69mpython\u001b[0m\n",
       "\u001b[38;5;134m    \u001b[0m\u001b[38;5;134m┗━━ \u001b[0m\u001b[1;38;5;49mstore_dir: \u001b[0m\u001b[1;5;38;5;69mNone\u001b[0m\n"
      ]
     },
     "execution_count": 9,
     "metadata": {},
     "output_type": "execute_result"
    }
   ],
   "source": [
    "show_configuration()"
   ]
  },
  {
   "cell_type": "code",
   "execution_count": 10,
   "id": "3a6a8382",
   "metadata": {
    "execution": {
     "iopub.execute_input": "2022-09-19T06:26:57.221725Z",
     "iopub.status.busy": "2022-09-19T06:26:57.221500Z",
     "iopub.status.idle": "2022-09-19T06:26:57.225770Z",
     "shell.execute_reply": "2022-09-19T06:26:57.225108Z"
    }
   },
   "outputs": [
    {
     "data": {
      "text/plain": [
       "'user@email.com'"
      ]
     },
     "execution_count": 10,
     "metadata": {},
     "output_type": "execute_result"
    }
   ],
   "source": [
    "ronswanson_config.slurm.user_email"
   ]
  },
  {
   "cell_type": "code",
   "execution_count": 11,
   "id": "e876a946",
   "metadata": {
    "execution": {
     "iopub.execute_input": "2022-09-19T06:26:57.229634Z",
     "iopub.status.busy": "2022-09-19T06:26:57.229416Z",
     "iopub.status.idle": "2022-09-19T06:26:57.232584Z",
     "shell.execute_reply": "2022-09-19T06:26:57.231905Z"
    }
   },
   "outputs": [],
   "source": [
    "ronswanson_config.slurm.user_email = \"workemail@email.com\""
   ]
  },
  {
   "cell_type": "code",
   "execution_count": 12,
   "id": "20b1a034",
   "metadata": {
    "execution": {
     "iopub.execute_input": "2022-09-19T06:26:57.235385Z",
     "iopub.status.busy": "2022-09-19T06:26:57.235160Z",
     "iopub.status.idle": "2022-09-19T06:26:57.241363Z",
     "shell.execute_reply": "2022-09-19T06:26:57.240702Z"
    }
   },
   "outputs": [
    {
     "data": {
      "text/html": [
       "<pre style=\"white-space:pre;overflow-x:auto;line-height:normal;font-family:Menlo,'DejaVu Sans Mono',consolas,'Courier New',monospace\"><span style=\"color: #af5fd7; text-decoration-color: #af5fd7; font-weight: bold\">config</span>\n",
       "<span style=\"color: #af5fd7; text-decoration-color: #af5fd7\">┣━━ </span><span style=\"color: #af5fd7; text-decoration-color: #af5fd7; font-weight: bold\">logging</span>\n",
       "<span style=\"color: #af5fd7; text-decoration-color: #af5fd7\">┃   ┣━━ </span><span style=\"color: #00ffaf; text-decoration-color: #00ffaf; font-weight: bold\">on: </span><span style=\"color: #5f87ff; text-decoration-color: #5f87ff; font-weight: bold\">True</span>\n",
       "<span style=\"color: #af5fd7; text-decoration-color: #af5fd7\">┃   ┗━━ </span><span style=\"color: #00ffaf; text-decoration-color: #00ffaf; font-weight: bold\">level: </span><span style=\"color: #5f87ff; text-decoration-color: #5f87ff; font-weight: bold\">WARNING</span>\n",
       "<span style=\"color: #af5fd7; text-decoration-color: #af5fd7\">┗━━ </span><span style=\"color: #af5fd7; text-decoration-color: #af5fd7; font-weight: bold\">slurm</span>\n",
       "<span style=\"color: #af5fd7; text-decoration-color: #af5fd7\">    ┣━━ </span><span style=\"color: #00ffaf; text-decoration-color: #00ffaf; font-weight: bold\">user_email: </span><span style=\"color: #5f87ff; text-decoration-color: #5f87ff; font-weight: bold\">workemail@email.com</span>\n",
       "<span style=\"color: #af5fd7; text-decoration-color: #af5fd7\">    ┣━━ </span><span style=\"color: #00ffaf; text-decoration-color: #00ffaf; font-weight: bold\">modules: </span><span style=\"color: #5f87ff; text-decoration-color: #5f87ff; font-weight: bold\">None</span>\n",
       "<span style=\"color: #af5fd7; text-decoration-color: #af5fd7\">    ┣━━ </span><span style=\"color: #00ffaf; text-decoration-color: #00ffaf; font-weight: bold\">mpi_modules: </span><span style=\"color: #5f87ff; text-decoration-color: #5f87ff; font-weight: bold\">None</span>\n",
       "<span style=\"color: #af5fd7; text-decoration-color: #af5fd7\">    ┣━━ </span><span style=\"color: #00ffaf; text-decoration-color: #00ffaf; font-weight: bold\">python: </span><span style=\"color: #5f87ff; text-decoration-color: #5f87ff; font-weight: bold\">python</span>\n",
       "<span style=\"color: #af5fd7; text-decoration-color: #af5fd7\">    ┗━━ </span><span style=\"color: #00ffaf; text-decoration-color: #00ffaf; font-weight: bold\">store_dir: </span><span style=\"color: #5f87ff; text-decoration-color: #5f87ff; font-weight: bold\">None</span>\n",
       "</pre>\n"
      ],
      "text/plain": [
       "\u001b[1;38;5;134mconfig\u001b[0m\n",
       "\u001b[38;5;134m┣━━ \u001b[0m\u001b[1;38;5;134mlogging\u001b[0m\n",
       "\u001b[38;5;134m┃   \u001b[0m\u001b[38;5;134m┣━━ \u001b[0m\u001b[1;38;5;49mon: \u001b[0m\u001b[1;5;38;5;69mTrue\u001b[0m\n",
       "\u001b[38;5;134m┃   \u001b[0m\u001b[38;5;134m┗━━ \u001b[0m\u001b[1;38;5;49mlevel: \u001b[0m\u001b[1;5;38;5;69mWARNING\u001b[0m\n",
       "\u001b[38;5;134m┗━━ \u001b[0m\u001b[1;38;5;134mslurm\u001b[0m\n",
       "\u001b[38;5;134m    \u001b[0m\u001b[38;5;134m┣━━ \u001b[0m\u001b[1;38;5;49muser_email: \u001b[0m\u001b[1;5;38;5;69mworkemail@email.com\u001b[0m\n",
       "\u001b[38;5;134m    \u001b[0m\u001b[38;5;134m┣━━ \u001b[0m\u001b[1;38;5;49mmodules: \u001b[0m\u001b[1;5;38;5;69mNone\u001b[0m\n",
       "\u001b[38;5;134m    \u001b[0m\u001b[38;5;134m┣━━ \u001b[0m\u001b[1;38;5;49mmpi_modules: \u001b[0m\u001b[1;5;38;5;69mNone\u001b[0m\n",
       "\u001b[38;5;134m    \u001b[0m\u001b[38;5;134m┣━━ \u001b[0m\u001b[1;38;5;49mpython: \u001b[0m\u001b[1;5;38;5;69mpython\u001b[0m\n",
       "\u001b[38;5;134m    \u001b[0m\u001b[38;5;134m┗━━ \u001b[0m\u001b[1;38;5;49mstore_dir: \u001b[0m\u001b[1;5;38;5;69mNone\u001b[0m\n"
      ]
     },
     "execution_count": 12,
     "metadata": {},
     "output_type": "execute_result"
    }
   ],
   "source": [
    "show_configuration()"
   ]
  },
  {
   "cell_type": "code",
   "execution_count": null,
   "id": "e7b0a594",
   "metadata": {},
   "outputs": [],
   "source": []
  }
 ],
 "metadata": {
  "jupytext": {
   "formats": "ipynb,md"
  },
  "kernelspec": {
   "display_name": "Python 3 (ipykernel)",
   "language": "python",
   "name": "python3"
  },
  "language_info": {
   "codemirror_mode": {
    "name": "ipython",
    "version": 3
   },
   "file_extension": ".py",
   "mimetype": "text/x-python",
   "name": "python",
   "nbconvert_exporter": "python",
   "pygments_lexer": "ipython3",
   "version": "3.8.13"
  },
  "widgets": {
   "application/vnd.jupyter.widget-state+json": {
    "state": {
     "0b166591163e45cbaf9de48a56ab4c75": {
      "model_module": "@jupyter-widgets/controls",
      "model_module_version": "2.0.0",
      "model_name": "ProgressStyleModel",
      "state": {
       "_model_module": "@jupyter-widgets/controls",
       "_model_module_version": "2.0.0",
       "_model_name": "ProgressStyleModel",
       "_view_count": null,
       "_view_module": "@jupyter-widgets/base",
       "_view_module_version": "2.0.0",
       "_view_name": "StyleView",
       "bar_color": null,
       "description_width": ""
      }
     },
     "25bb4a0c30ce4e33b0a92363ca7b0bf3": {
      "model_module": "@jupyter-widgets/controls",
      "model_module_version": "2.0.0",
      "model_name": "HTMLStyleModel",
      "state": {
       "_model_module": "@jupyter-widgets/controls",
       "_model_module_version": "2.0.0",
       "_model_name": "HTMLStyleModel",
       "_view_count": null,
       "_view_module": "@jupyter-widgets/base",
       "_view_module_version": "2.0.0",
       "_view_name": "StyleView",
       "background": null,
       "description_width": "",
       "font_size": null,
       "text_color": null
      }
     },
     "2d4f6ca35920466ca2efb81add5625a3": {
      "model_module": "@jupyter-widgets/controls",
      "model_module_version": "2.0.0",
      "model_name": "FloatProgressModel",
      "state": {
       "_dom_classes": [],
       "_model_module": "@jupyter-widgets/controls",
       "_model_module_version": "2.0.0",
       "_model_name": "FloatProgressModel",
       "_view_count": null,
       "_view_module": "@jupyter-widgets/controls",
       "_view_module_version": "2.0.0",
       "_view_name": "ProgressView",
       "bar_style": "success",
       "description": "",
       "description_allow_html": false,
       "layout": "IPY_MODEL_f2a89c649e29486db220d5cbb5708dbb",
       "max": 45.0,
       "min": 0.0,
       "orientation": "horizontal",
       "style": "IPY_MODEL_0b166591163e45cbaf9de48a56ab4c75",
       "tabbable": null,
       "tooltip": null,
       "value": 45.0
      }
     },
     "30aa4c04333a458581aa78f472f09c62": {
      "model_module": "@jupyter-widgets/base",
      "model_module_version": "2.0.0",
      "model_name": "LayoutModel",
      "state": {
       "_model_module": "@jupyter-widgets/base",
       "_model_module_version": "2.0.0",
       "_model_name": "LayoutModel",
       "_view_count": null,
       "_view_module": "@jupyter-widgets/base",
       "_view_module_version": "2.0.0",
       "_view_name": "LayoutView",
       "align_content": null,
       "align_items": null,
       "align_self": null,
       "border_bottom": null,
       "border_left": null,
       "border_right": null,
       "border_top": null,
       "bottom": null,
       "display": null,
       "flex": null,
       "flex_flow": null,
       "grid_area": null,
       "grid_auto_columns": null,
       "grid_auto_flow": null,
       "grid_auto_rows": null,
       "grid_column": null,
       "grid_gap": null,
       "grid_row": null,
       "grid_template_areas": null,
       "grid_template_columns": null,
       "grid_template_rows": null,
       "height": null,
       "justify_content": null,
       "justify_items": null,
       "left": null,
       "margin": null,
       "max_height": null,
       "max_width": null,
       "min_height": null,
       "min_width": null,
       "object_fit": null,
       "object_position": null,
       "order": null,
       "overflow": null,
       "padding": null,
       "right": null,
       "top": null,
       "visibility": null,
       "width": null
      }
     },
     "32c65519c7f04c679a9084e54653c155": {
      "model_module": "@jupyter-widgets/controls",
      "model_module_version": "2.0.0",
      "model_name": "HTMLModel",
      "state": {
       "_dom_classes": [],
       "_model_module": "@jupyter-widgets/controls",
       "_model_module_version": "2.0.0",
       "_model_name": "HTMLModel",
       "_view_count": null,
       "_view_module": "@jupyter-widgets/controls",
       "_view_module_version": "2.0.0",
       "_view_name": "HTMLView",
       "description": "",
       "description_allow_html": false,
       "layout": "IPY_MODEL_69daa8005d3349e7a3df11530c1caf60",
       "placeholder": "​",
       "style": "IPY_MODEL_ed4fed626c6041808a224b530641a761",
       "tabbable": null,
       "tooltip": null,
       "value": "100%"
      }
     },
     "33e6c823b1384cedbe6f93f84f35e552": {
      "model_module": "@jupyter-widgets/base",
      "model_module_version": "2.0.0",
      "model_name": "LayoutModel",
      "state": {
       "_model_module": "@jupyter-widgets/base",
       "_model_module_version": "2.0.0",
       "_model_name": "LayoutModel",
       "_view_count": null,
       "_view_module": "@jupyter-widgets/base",
       "_view_module_version": "2.0.0",
       "_view_name": "LayoutView",
       "align_content": null,
       "align_items": null,
       "align_self": null,
       "border_bottom": null,
       "border_left": null,
       "border_right": null,
       "border_top": null,
       "bottom": null,
       "display": null,
       "flex": null,
       "flex_flow": null,
       "grid_area": null,
       "grid_auto_columns": null,
       "grid_auto_flow": null,
       "grid_auto_rows": null,
       "grid_column": null,
       "grid_gap": null,
       "grid_row": null,
       "grid_template_areas": null,
       "grid_template_columns": null,
       "grid_template_rows": null,
       "height": null,
       "justify_content": null,
       "justify_items": null,
       "left": null,
       "margin": null,
       "max_height": null,
       "max_width": null,
       "min_height": null,
       "min_width": null,
       "object_fit": null,
       "object_position": null,
       "order": null,
       "overflow": null,
       "padding": null,
       "right": null,
       "top": null,
       "visibility": null,
       "width": null
      }
     },
     "5a754172ba5a483c8e8d6fac111b1e08": {
      "model_module": "@jupyter-widgets/controls",
      "model_module_version": "2.0.0",
      "model_name": "HTMLStyleModel",
      "state": {
       "_model_module": "@jupyter-widgets/controls",
       "_model_module_version": "2.0.0",
       "_model_name": "HTMLStyleModel",
       "_view_count": null,
       "_view_module": "@jupyter-widgets/base",
       "_view_module_version": "2.0.0",
       "_view_name": "StyleView",
       "background": null,
       "description_width": "",
       "font_size": null,
       "text_color": null
      }
     },
     "69daa8005d3349e7a3df11530c1caf60": {
      "model_module": "@jupyter-widgets/base",
      "model_module_version": "2.0.0",
      "model_name": "LayoutModel",
      "state": {
       "_model_module": "@jupyter-widgets/base",
       "_model_module_version": "2.0.0",
       "_model_name": "LayoutModel",
       "_view_count": null,
       "_view_module": "@jupyter-widgets/base",
       "_view_module_version": "2.0.0",
       "_view_name": "LayoutView",
       "align_content": null,
       "align_items": null,
       "align_self": null,
       "border_bottom": null,
       "border_left": null,
       "border_right": null,
       "border_top": null,
       "bottom": null,
       "display": null,
       "flex": null,
       "flex_flow": null,
       "grid_area": null,
       "grid_auto_columns": null,
       "grid_auto_flow": null,
       "grid_auto_rows": null,
       "grid_column": null,
       "grid_gap": null,
       "grid_row": null,
       "grid_template_areas": null,
       "grid_template_columns": null,
       "grid_template_rows": null,
       "height": null,
       "justify_content": null,
       "justify_items": null,
       "left": null,
       "margin": null,
       "max_height": null,
       "max_width": null,
       "min_height": null,
       "min_width": null,
       "object_fit": null,
       "object_position": null,
       "order": null,
       "overflow": null,
       "padding": null,
       "right": null,
       "top": null,
       "visibility": null,
       "width": null
      }
     },
     "731f3dc4ee034e78a32f3fe9b085e07b": {
      "model_module": "@jupyter-widgets/controls",
      "model_module_version": "2.0.0",
      "model_name": "ProgressStyleModel",
      "state": {
       "_model_module": "@jupyter-widgets/controls",
       "_model_module_version": "2.0.0",
       "_model_name": "ProgressStyleModel",
       "_view_count": null,
       "_view_module": "@jupyter-widgets/base",
       "_view_module_version": "2.0.0",
       "_view_name": "StyleView",
       "bar_color": null,
       "description_width": ""
      }
     },
     "734cd0dfa0bc4afb8233c1848299a577": {
      "model_module": "@jupyter-widgets/controls",
      "model_module_version": "2.0.0",
      "model_name": "HTMLStyleModel",
      "state": {
       "_model_module": "@jupyter-widgets/controls",
       "_model_module_version": "2.0.0",
       "_model_name": "HTMLStyleModel",
       "_view_count": null,
       "_view_module": "@jupyter-widgets/base",
       "_view_module_version": "2.0.0",
       "_view_name": "StyleView",
       "background": null,
       "description_width": "",
       "font_size": null,
       "text_color": null
      }
     },
     "81767c799b3349d6bb17ba77c7684284": {
      "model_module": "@jupyter-widgets/controls",
      "model_module_version": "2.0.0",
      "model_name": "HBoxModel",
      "state": {
       "_dom_classes": [],
       "_model_module": "@jupyter-widgets/controls",
       "_model_module_version": "2.0.0",
       "_model_name": "HBoxModel",
       "_view_count": null,
       "_view_module": "@jupyter-widgets/controls",
       "_view_module_version": "2.0.0",
       "_view_name": "HBoxView",
       "box_style": "",
       "children": [
        "IPY_MODEL_838504415c3740acabb06859687e25ae",
        "IPY_MODEL_d0c1cf1f037046adb320198900c27226",
        "IPY_MODEL_873dda91c68a45bbbb6f2946e25e0817"
       ],
       "layout": "IPY_MODEL_8d27874eff174b8aae569ae0e3ebdd42",
       "tabbable": null,
       "tooltip": null
      }
     },
     "838504415c3740acabb06859687e25ae": {
      "model_module": "@jupyter-widgets/controls",
      "model_module_version": "2.0.0",
      "model_name": "HTMLModel",
      "state": {
       "_dom_classes": [],
       "_model_module": "@jupyter-widgets/controls",
       "_model_module_version": "2.0.0",
       "_model_name": "HTMLModel",
       "_view_count": null,
       "_view_module": "@jupyter-widgets/controls",
       "_view_module_version": "2.0.0",
       "_view_name": "HTMLView",
       "description": "",
       "description_allow_html": false,
       "layout": "IPY_MODEL_88294d5107a543b8bfcff726550ce689",
       "placeholder": "​",
       "style": "IPY_MODEL_5a754172ba5a483c8e8d6fac111b1e08",
       "tabbable": null,
       "tooltip": null,
       "value": "100%"
      }
     },
     "873dda91c68a45bbbb6f2946e25e0817": {
      "model_module": "@jupyter-widgets/controls",
      "model_module_version": "2.0.0",
      "model_name": "HTMLModel",
      "state": {
       "_dom_classes": [],
       "_model_module": "@jupyter-widgets/controls",
       "_model_module_version": "2.0.0",
       "_model_name": "HTMLModel",
       "_view_count": null,
       "_view_module": "@jupyter-widgets/controls",
       "_view_module_version": "2.0.0",
       "_view_name": "HTMLView",
       "description": "",
       "description_allow_html": false,
       "layout": "IPY_MODEL_aeaaff6385914036b4b17cc5578d1dcb",
       "placeholder": "​",
       "style": "IPY_MODEL_734cd0dfa0bc4afb8233c1848299a577",
       "tabbable": null,
       "tooltip": null,
       "value": " 250/250 [00:00&lt;00:00, 2436.46it/s]"
      }
     },
     "88294d5107a543b8bfcff726550ce689": {
      "model_module": "@jupyter-widgets/base",
      "model_module_version": "2.0.0",
      "model_name": "LayoutModel",
      "state": {
       "_model_module": "@jupyter-widgets/base",
       "_model_module_version": "2.0.0",
       "_model_name": "LayoutModel",
       "_view_count": null,
       "_view_module": "@jupyter-widgets/base",
       "_view_module_version": "2.0.0",
       "_view_name": "LayoutView",
       "align_content": null,
       "align_items": null,
       "align_self": null,
       "border_bottom": null,
       "border_left": null,
       "border_right": null,
       "border_top": null,
       "bottom": null,
       "display": null,
       "flex": null,
       "flex_flow": null,
       "grid_area": null,
       "grid_auto_columns": null,
       "grid_auto_flow": null,
       "grid_auto_rows": null,
       "grid_column": null,
       "grid_gap": null,
       "grid_row": null,
       "grid_template_areas": null,
       "grid_template_columns": null,
       "grid_template_rows": null,
       "height": null,
       "justify_content": null,
       "justify_items": null,
       "left": null,
       "margin": null,
       "max_height": null,
       "max_width": null,
       "min_height": null,
       "min_width": null,
       "object_fit": null,
       "object_position": null,
       "order": null,
       "overflow": null,
       "padding": null,
       "right": null,
       "top": null,
       "visibility": null,
       "width": null
      }
     },
     "8d27874eff174b8aae569ae0e3ebdd42": {
      "model_module": "@jupyter-widgets/base",
      "model_module_version": "2.0.0",
      "model_name": "LayoutModel",
      "state": {
       "_model_module": "@jupyter-widgets/base",
       "_model_module_version": "2.0.0",
       "_model_name": "LayoutModel",
       "_view_count": null,
       "_view_module": "@jupyter-widgets/base",
       "_view_module_version": "2.0.0",
       "_view_name": "LayoutView",
       "align_content": null,
       "align_items": null,
       "align_self": null,
       "border_bottom": null,
       "border_left": null,
       "border_right": null,
       "border_top": null,
       "bottom": null,
       "display": null,
       "flex": null,
       "flex_flow": null,
       "grid_area": null,
       "grid_auto_columns": null,
       "grid_auto_flow": null,
       "grid_auto_rows": null,
       "grid_column": null,
       "grid_gap": null,
       "grid_row": null,
       "grid_template_areas": null,
       "grid_template_columns": null,
       "grid_template_rows": null,
       "height": null,
       "justify_content": null,
       "justify_items": null,
       "left": null,
       "margin": null,
       "max_height": null,
       "max_width": null,
       "min_height": null,
       "min_width": null,
       "object_fit": null,
       "object_position": null,
       "order": null,
       "overflow": null,
       "padding": null,
       "right": null,
       "top": null,
       "visibility": null,
       "width": null
      }
     },
     "a34d35e3b9a84dfd8e541cb7044ddc15": {
      "model_module": "@jupyter-widgets/controls",
      "model_module_version": "2.0.0",
      "model_name": "HBoxModel",
      "state": {
       "_dom_classes": [],
       "_model_module": "@jupyter-widgets/controls",
       "_model_module_version": "2.0.0",
       "_model_name": "HBoxModel",
       "_view_count": null,
       "_view_module": "@jupyter-widgets/controls",
       "_view_module_version": "2.0.0",
       "_view_name": "HBoxView",
       "box_style": "",
       "children": [
        "IPY_MODEL_32c65519c7f04c679a9084e54653c155",
        "IPY_MODEL_2d4f6ca35920466ca2efb81add5625a3",
        "IPY_MODEL_e21902aee6e04a4c9efd1ce5a7b152c7"
       ],
       "layout": "IPY_MODEL_ac2b28644f794ee18a89f823286970b6",
       "tabbable": null,
       "tooltip": null
      }
     },
     "ac2b28644f794ee18a89f823286970b6": {
      "model_module": "@jupyter-widgets/base",
      "model_module_version": "2.0.0",
      "model_name": "LayoutModel",
      "state": {
       "_model_module": "@jupyter-widgets/base",
       "_model_module_version": "2.0.0",
       "_model_name": "LayoutModel",
       "_view_count": null,
       "_view_module": "@jupyter-widgets/base",
       "_view_module_version": "2.0.0",
       "_view_name": "LayoutView",
       "align_content": null,
       "align_items": null,
       "align_self": null,
       "border_bottom": null,
       "border_left": null,
       "border_right": null,
       "border_top": null,
       "bottom": null,
       "display": null,
       "flex": null,
       "flex_flow": null,
       "grid_area": null,
       "grid_auto_columns": null,
       "grid_auto_flow": null,
       "grid_auto_rows": null,
       "grid_column": null,
       "grid_gap": null,
       "grid_row": null,
       "grid_template_areas": null,
       "grid_template_columns": null,
       "grid_template_rows": null,
       "height": null,
       "justify_content": null,
       "justify_items": null,
       "left": null,
       "margin": null,
       "max_height": null,
       "max_width": null,
       "min_height": null,
       "min_width": null,
       "object_fit": null,
       "object_position": null,
       "order": null,
       "overflow": null,
       "padding": null,
       "right": null,
       "top": null,
       "visibility": null,
       "width": null
      }
     },
     "aeaaff6385914036b4b17cc5578d1dcb": {
      "model_module": "@jupyter-widgets/base",
      "model_module_version": "2.0.0",
      "model_name": "LayoutModel",
      "state": {
       "_model_module": "@jupyter-widgets/base",
       "_model_module_version": "2.0.0",
       "_model_name": "LayoutModel",
       "_view_count": null,
       "_view_module": "@jupyter-widgets/base",
       "_view_module_version": "2.0.0",
       "_view_name": "LayoutView",
       "align_content": null,
       "align_items": null,
       "align_self": null,
       "border_bottom": null,
       "border_left": null,
       "border_right": null,
       "border_top": null,
       "bottom": null,
       "display": null,
       "flex": null,
       "flex_flow": null,
       "grid_area": null,
       "grid_auto_columns": null,
       "grid_auto_flow": null,
       "grid_auto_rows": null,
       "grid_column": null,
       "grid_gap": null,
       "grid_row": null,
       "grid_template_areas": null,
       "grid_template_columns": null,
       "grid_template_rows": null,
       "height": null,
       "justify_content": null,
       "justify_items": null,
       "left": null,
       "margin": null,
       "max_height": null,
       "max_width": null,
       "min_height": null,
       "min_width": null,
       "object_fit": null,
       "object_position": null,
       "order": null,
       "overflow": null,
       "padding": null,
       "right": null,
       "top": null,
       "visibility": null,
       "width": null
      }
     },
     "d0c1cf1f037046adb320198900c27226": {
      "model_module": "@jupyter-widgets/controls",
      "model_module_version": "2.0.0",
      "model_name": "FloatProgressModel",
      "state": {
       "_dom_classes": [],
       "_model_module": "@jupyter-widgets/controls",
       "_model_module_version": "2.0.0",
       "_model_name": "FloatProgressModel",
       "_view_count": null,
       "_view_module": "@jupyter-widgets/controls",
       "_view_module_version": "2.0.0",
       "_view_name": "ProgressView",
       "bar_style": "success",
       "description": "",
       "description_allow_html": false,
       "layout": "IPY_MODEL_30aa4c04333a458581aa78f472f09c62",
       "max": 250.0,
       "min": 0.0,
       "orientation": "horizontal",
       "style": "IPY_MODEL_731f3dc4ee034e78a32f3fe9b085e07b",
       "tabbable": null,
       "tooltip": null,
       "value": 250.0
      }
     },
     "e21902aee6e04a4c9efd1ce5a7b152c7": {
      "model_module": "@jupyter-widgets/controls",
      "model_module_version": "2.0.0",
      "model_name": "HTMLModel",
      "state": {
       "_dom_classes": [],
       "_model_module": "@jupyter-widgets/controls",
       "_model_module_version": "2.0.0",
       "_model_name": "HTMLModel",
       "_view_count": null,
       "_view_module": "@jupyter-widgets/controls",
       "_view_module_version": "2.0.0",
       "_view_name": "HTMLView",
       "description": "",
       "description_allow_html": false,
       "layout": "IPY_MODEL_33e6c823b1384cedbe6f93f84f35e552",
       "placeholder": "​",
       "style": "IPY_MODEL_25bb4a0c30ce4e33b0a92363ca7b0bf3",
       "tabbable": null,
       "tooltip": null,
       "value": " 45/45 [00:00&lt;00:00, 1193.15it/s]"
      }
     },
     "ed4fed626c6041808a224b530641a761": {
      "model_module": "@jupyter-widgets/controls",
      "model_module_version": "2.0.0",
      "model_name": "HTMLStyleModel",
      "state": {
       "_model_module": "@jupyter-widgets/controls",
       "_model_module_version": "2.0.0",
       "_model_name": "HTMLStyleModel",
       "_view_count": null,
       "_view_module": "@jupyter-widgets/base",
       "_view_module_version": "2.0.0",
       "_view_name": "StyleView",
       "background": null,
       "description_width": "",
       "font_size": null,
       "text_color": null
      }
     },
     "f2a89c649e29486db220d5cbb5708dbb": {
      "model_module": "@jupyter-widgets/base",
      "model_module_version": "2.0.0",
      "model_name": "LayoutModel",
      "state": {
       "_model_module": "@jupyter-widgets/base",
       "_model_module_version": "2.0.0",
       "_model_name": "LayoutModel",
       "_view_count": null,
       "_view_module": "@jupyter-widgets/base",
       "_view_module_version": "2.0.0",
       "_view_name": "LayoutView",
       "align_content": null,
       "align_items": null,
       "align_self": null,
       "border_bottom": null,
       "border_left": null,
       "border_right": null,
       "border_top": null,
       "bottom": null,
       "display": null,
       "flex": null,
       "flex_flow": null,
       "grid_area": null,
       "grid_auto_columns": null,
       "grid_auto_flow": null,
       "grid_auto_rows": null,
       "grid_column": null,
       "grid_gap": null,
       "grid_row": null,
       "grid_template_areas": null,
       "grid_template_columns": null,
       "grid_template_rows": null,
       "height": null,
       "justify_content": null,
       "justify_items": null,
       "left": null,
       "margin": null,
       "max_height": null,
       "max_width": null,
       "min_height": null,
       "min_width": null,
       "object_fit": null,
       "object_position": null,
       "order": null,
       "overflow": null,
       "padding": null,
       "right": null,
       "top": null,
       "visibility": null,
       "width": null
      }
     }
    },
    "version_major": 2,
    "version_minor": 0
   }
  }
 },
 "nbformat": 4,
 "nbformat_minor": 5
}
